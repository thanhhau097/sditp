{
 "cells": [
  {
   "cell_type": "code",
   "execution_count": null,
   "metadata": {},
   "outputs": [],
   "source": [
    "# Step by steps to generate data\n",
    "# 1. Generate prompt embeddings\n",
    "# 2. Generate images from prompts\n",
    "# 3. Generate correlation between prompt and image"
   ]
  },
  {
   "cell_type": "code",
   "execution_count": null,
   "metadata": {},
   "outputs": [],
   "source": [
    "prompts = [\n",
    "    'hyper realistic photo of very friendly and dystopian crater',\n",
    "    'ramen carved out of fractal rose ebony, in the style of hudson river school',\n",
    "    'ultrasaurus holding a black bean taco in the woods, near an identical cheneosaurus',\n",
    "    'a thundering retro robot crane inks on parchment with a droopy french bulldog',\n",
    "    'portrait painting of a shimmering greek hero, next to a loud frill-necked lizard',\n",
    "    'an astronaut standing on a engaging white rose, in the midst of by ivory cherry blossoms',\n",
    "    'Kaggle employee Phil at a donut shop ordering all the best donuts, with a speech bubble that proclaims \"Donuts. It\\'s what\\'s for dinner!\"',\n",
    "    \"realistic car 3 d render sci - fi car and sci - fi robotic factory structure in the coronation of napoleon painting and digital billboard with point cloud in the middle, unreal engine 5, keyshot, octane, artstation trending, ultra high detail, ultra realistic, cinematic, 8 k, 1 6 k, in style of zaha hadid, in style of nanospace michael menzelincev, in style of lee souder, in plastic, dark atmosphere, tilt shift, depth of field,\",\n",
    "    \"a comic potrait of a female necromamcer with big and cute eyes, fine - face, realistic shaded perfect face, fine details. night setting. very anime style. realistic shaded lighting poster by ilya kuvshinov katsuhiro, magali villeneuve, artgerm, jeremy lipkin and michael garmash, rob rey and kentaro miura style, trending on art station\",\n",
    "    \"steampunk market interior, colorful, 3 d scene, greg rutkowski, zabrocki, karlkka, jayison devadas, trending on artstation, 8 k, ultra wide angle, zenith view, pincushion lens effect\",\n",
    "    \"“A portrait of a cyborg in a golden suit, D&D sci-fi, artstation, concept art, highly detailed illustration.”\",\n",
    "    \"A full portrait of a beautiful post apocalyptic offworld nanotechnician, intricate, elegant, highly detailed, digital painting, artstation, concept art, smooth, sharp focus, illustration, art by Krenz Cushart and Artem Demura and alphonse mucha\",\n",
    "    \"beautiful victorian raven digital painting, art by artgerm and greg rutkowski, alphonse mucha, cgsociety\",\n",
    "    \"ilya kuvshinov with long sky blue hair, gold eyes, professional digital painting, concept art, unreal engine 5, 8 k, cinematic, wlop, bubbles, tendrils in the background, art by greg rutkowski, pixiv art, junji ito, yoshitaka amano\",\n",
    "    \"violet demonic card game decorative frame, violet decorative frame, card frame, card frame, card frame, card frame, card frame, card frame, card frame, card frame, card frame, card game artwork frame. 8 k, sharp high quality artwork in style of jose daniel cabrera pena and greg rutkowski, concept art, blizzard warcraft artwork, hearthstone artwork, blue sea theme\",\n",
    "    \"a black and white edward gorey illustration of a man in old fashioned clothes waits by the side of the mountain road with his suitcase, looking at a coach with 4 horses is in front of him, stormy night time in the mountains highly detailed in the style of edward gorey, artgerm, 8 k resolution - c 5\",\n",
    "    \"african hydropunk princess, science fiction, highly detailed, digital painting, beautiful eyes, symmetry, concept art, sharp focus, illustration, global illumination, radiant light, synthwave colors, detailed and intricate environment, art by artgerm and greg rutkowski and magali villeneuve and ilya kuvshinov!\",\n",
    "    \"winston in his armor from overwatch, character portrait, portrait, close up, concept art, intricate details, highly detailed by greg rutkowski, michael whelan and gustave dore\",\n",
    "    \"portrait, large tokyo street in background, a women looks at the flashes of lightning bolts in sky, dark sky by artgerm, illustration, trending on artstation, deviantart,\",\n",
    "    \"A epic fantasy portrait of a cute goth woman, castle setting, horror movie lightning, intricate, elegant, highly detailed, digital painting, artstation, concept art, matte, sharp focus, illustration, art by Artgerm and Greg Rutkowski and Alphonse Mucha\",\n",
    "    \"an immaculate render of a dancing chinese goddess adorned with leaves and cables and bird wings, dancing in a temple surrounded by wild tentacles made from mandalas and incense smoke, full body, perfect face, powerful, cinematic, beautifully lit, by artgerm, by karol bak, by android jones, 3 d, trending on artstation, octane render, 8 k\",\n",
    "    \"an intricate painting of divali celebrations by moebius and makoto shinkai, featured on artstation, pixiv, volumetric lighting, 8 k, highly detailed render, soft glow\",\n",
    "    \"a highly detailed epic cinematic concept art CG render digital painting artwork: forest fires. By Greg Rutkowski, in the style of Francis Bacon and Syd Mead and Norman Rockwell and Beksinski, open ceiling, highly detailed, painted by Francis Bacon and Edward Hopper, painted by James Gilleard, surrealism, airbrush, Ilya Kuvshinov, WLOP, Stanley Artgerm, very coherent, triadic color scheme, art by Takato Yamamoto and James Jean\",\n",
    "    \"a portrait of a girl skull face, marilyn monroe, in the style of artgerm, charlie bowater, atey ghailan and mike mignola, vibrant colors and hard shadows and strong rim light, plain background, comic cover art, trending on artstation\",\n",
    "    \"a very beautiful anime cute girl, full body, long wavy blond hair, sky blue eyes, full round face, short smile, fancy top, miniskirt, front view, medium shot, mid-shot, laying in bed, highly detailed, cinematic wallpaper by Stanley Artgerm Lau\",\n",
    "    \"nature landscape, aerial view, drone photography, cinematic, mountains and ocean, cinematic view, epic sky, detailed, concept art, high detail, warm lighting, volumetric, godrays, vivid, beautiful, trending on artstation, by jordan grimmer, art greg rutkowski\",\n",
    "    \"portrait of Emma Watson as Hermione Granger sitting next to a window reading a book, focused expression, face focus, golden hour, art by Kenne Gregoire and Krenz Cushart, trending on artstation\",\n",
    "    \"decorated modern country house interior, trending on artstation, hdr, 8 k, light reflections\",\n",
    "    \"island inside of a treasure, 3d render, unreal engine, ultradetailed, trending on artstation, devianart, cgsociety, concept art\",\n",
    "    \"a highly detailed portrait of a man with dark green hair and green glowing eyes, high detail clothing, concept art, anime, artstation, professional\",\n",
    "    \"fantasy painting with a wizard in red robes in a surreal environment by greg rutkowski and michael whelan w 1 0 2 4\",\n",
    "    \"anatomical sculpture of central nervous system, quixel megascans, photorealism, cgi, digital concept art, redshift render, physically based rendering, cinematic, filmic\",\n",
    "    \"cyberpunk corporate woman, overweight | | realistic shaded, fine details, realistic shaded lighting poster by greg rutkowski, diego gisbert llorens, magali villeneuve, artgerm, jeremy lipkin and rob rey\",\n",
    "    \"a detailed portrait of a giant michanical face buried half way in a cliff by Greg Rutkowski, Sung Choi, Mitchell Mohrhauser, Maciej Kuciara, Johnson Ting, Maxim Verehin, Peter Konig, final fantasy, Marco lense , 8k photorealistic, cinematic lighting, HD, high details, atmospheric , trending on artstation\",\n",
    "    \"full-body baroque and bladerunner style peach neon and ceramic statue of a beautiful pale ninja robot goddess humanoid thrusting sim roupa, glowing white face, street hoody of red steampunk lasers, emeralds, swirling white silk fabric. futuristic elements. prismatic liquid rainbow light, full-length view. space robots. human skulls. throne made of bones, intricate artwork by caravaggio. Trending on artstation, octane render, cinematic lighting from the right, hyper realism, octane render, 8k, depth of field, 3D\",\n",
    "    \"cyberpunk, cyberspace, portrait of alessandra ambrosio in gold space suit, painted by bobby chiu, painted by igor kieryluk, digital art, trending on artstation\",\n",
    "    \"rgb wires, a woman crawling on the ceiling, library, waterfall, cinematic, movie scene, inspired by zdzislaw beksinski, veins,, cables everywhere, bedroom, ultra realistic, concept art, intricate details, highly detailed, photorealistic, octane render, 8 k\",\n",
    "    \"a simple micro-service deployed to a public cloud, security, attack vector, trending on Artstation, painting by Jules Julien, Leslie David and Lisa Frank, muted colors with minimalism\",\n",
    "    \"overgrown foliage overtaking massive japanese temples, underwater environment, borealis, scenery, professional, award - winning, trending on artstation, hyper detailed, realistic, beautiful, emotional, shiny, golden, picture\",\n",
    "    \"realistic painting of a tardigrade kaiju, with 6 legs in a desert storm, by james gurney, slime, big globule eye, godzilla, vintage, concept art, oil painting, tonalism, crispy\",\n",
    "    \"portrait painting of a cyberpunk corporate boss elven michael b. jordan, ultra realistic, concept art, intricate details, eerie, highly detailed, photorealistic, octane render, 8 k, unreal engine. art by artgerm and greg rutkowski and charlie bowater and magali villeneuve and alphonse mucha\",\n",
    "    \"symmetry!! portrait of a female sorcerer, dar fantasy, intricate, elegant, highly detailed, my rendition, digital painting, artstation, concept art, smooth, sharp focus, illustration, art by artgerm and greg rutkowski and alphonse mucha and huang guangjian and gil elvgren and sachin teng\",\n",
    "    \"realistic cybertronic statue of shiva in hindu temple by alphonse mucha, ayami kojima, amano, greg hildebrandt, and mark brooks, feminine, art nouveau, cyberpunk, neo - gothic, gothic, character concept design\",\n",
    "    \"concept art of a minimalistic modern logo for a european logistics corporation\",\n",
    "    \"cybernetically enhanced cyborg hyena, realistic cyberpunk 2 0 7 7 concept art\",\n",
    "    \"clown from the movie it as a cyborg robot on a miniature town, studio lighting, unreal render, unreal engine 5, octane render, enchanted plants, cinematic, intricate, ornate, photorealistic, ultra detailed, realistic, 1 0 0 mm, photography, octane, high definition, depth of field, bokeh, 8 k, behance, trending on artstation\",\n",
    "    \"pastel landscape of an anime field. clean sharp digital art, environment concept art, by rossdraws, ghibli, breath of the wild, greg rutkowski\",\n",
    "    \"the legendary island sized lion snake, made by Stanley Artgerm Lau, WLOP, Rossdraws, ArtStation, CGSociety, concept art, cgsociety, octane render, trending on artstation, artstationHD, artstationHQ, unreal engine, 4k, 8k,\",\n",
    "    \"a tiny worlds by greg rutkowski, sung choi, mitchell mohrhauser, maciej kuciara, johnson ting, maxim verehin, peter konig, bloodborne, 8 k photorealistic, cinematic lighting, hd, high details, dramatic, dark atmosphere, trending on artstation\",\n",
    "    \"donald trump as arseface, horror, high details, intricate details, by vincent di fate, artgerm julie bell beeple, 1 9 8 0 s, inking, vintage 8 0 s print, screen print\",\n",
    "    \"portrait of a woman by greg rutkowski, a jedi commander, mara jade, wearing the tactical gear of the galactic alliance, star wars expanded universe, she is about 4 0 years old, highly detailed portrait, digital painting, artstation, concept art, smooth, sharp foccus ilustration, artstation hq\",\n",
    "    \"symmetry!! diablo 3 the high heavens, highly detailed, perfect lighting, perfect composition, 4 k, artgerm, derek zabrocki, greg rutkowski\",\n",
    "    \"saddam hussein as t - 8 0 0 terminator, art by greg rutkowski,\",\n",
    "    \"portrait of a happy family at the beach, photo, realistic, smooth face, perfect eyes, wide angle, sharp focus, 8 k high definition, insanely detailed, intricate, elegant, art by artgerm\",\n",
    "    \"macro closeup headshot of a beautiful happy 2 0 years old britney spears ethereal magical fairy princess wearing a white robe and flowers in her hair in a fantasy garden, d & d, fantasy, intricate, rim light, god rays, volumetric lighting, elegant, highly detailed, digital painting, artstation, concept art, smooth, sharp focus, illustration, art by greg rutkowski, maxfield parrish and alphonse mucha, sunrise, new art nouveau, soft ambient lighting, particle effects\",\n",
    "    \"a beautiful matte painting of glass forest, m. c. escher and gustave dore and sam spratt, cinematic, dynamic lighting, concept art, realistic, realism, colorful\",\n",
    "    \"the hermit from major arcana character concept art, digital painting, mixed media, trending on artstation and deviantart, epic composition, magnum opus, highly detailed, 8 k\",\n",
    "    \"a beautiful whimsical woman standing under a multi-colored binary blackhole with an accretion disc, casting magic, glowing trails following her arms, acidwave, hall of mirrors, interstellar galaxy, by Lois van Baarle, by Greg Rutkowski, by artgerm, by beeple, by studio ghibli, cinematic angle, volumetric lighting, 4k resolution, octane render, trending on artstation, masterpiece\",\n",
    "    \"a knight in armor on a thick strong warhorse by mike allred and frazetta and karol bak sharp digital painting. dreaming latent space. matte painting, concept art. artstation. digital render. realistic, 8 k\",\n",
    "    \"office secretary anime, d & d, fantasy, portrait, highly detailed, headshot, digital painting, trending on artstation, concept art, sharp focus, illustration, art by artgerm and greg rutkowski and magali villeneuve\",\n",
    "    \"beautiful, young woman, cybernetic, cyberpunk, detailed gorgeous face, flowing hair, vaporwave aesthetic, synthwave , digital painting, artstation, concept art, smooth, sharp focus, illustration, art by artgerm and greg rutkowski and alphonse mucha\",\n",
    "    \"isometric chubby 3 d game cannon, with detailed, clean, cartoon, octane render, unreal engine, artgerm, artstation\",\n",
    "    \"kylie minogue making pancakes, animation pixar style, by pendleton ward, magali villeneuve, artgerm, rob rey and kentaro miura style, golden ratio, trending on art station\",\n",
    "    \"portrait knights of zodiac girl, golden and copper shining armor, karate pose, in ruined agora of athens sunrise, ssci - fi and fantasy, intricate and very very beautiful and elegant, highly detailed, digital painting, artstation, concept art, smooth and sharp focus, illustration, art by tian zi and wlop and alphonse mucha and z - - ed\",\n",
    "    \"a gladiator in roman times, intricate, elegant, volumetric lighting, scenery, digital painting, highly detailed, artstation, sharp focus, illustration, concept art,ruan jia, steve mccurry\",\n",
    "    \"Short, elf, grey skin with a green undertone, orange/red hair, ears are 3 inches long ending at a point, their eyes are like a pale yellow light all iris (no black or white), uhhh they have deer like legs that bend backwards to allow for faster movement, and they are both masc and femme equally so I donï¿½t have to choose a gender dramatic lighting, illustration by Greg rutkowski, yoji shinkawa, 4k, digital art, concept art, trending on artstation\",\n",
    "    \"young glitchy woman, beautiful girl, vaporwave aesthetic, realistic, serov, surikov, vasnetsov, repin, kramskoi, uplight, insanely detailed, charlie bowater, tom bagshaw, octane rendered, 8 k, unreal engine, illustration, trending on artstation, masterpiece\",\n",
    "    \"painting of the figure of a pin up girl posing, high contrast, poster, clothes in the fashion of 6 0's, concept art, black and white, dramatic lighting, digital art, 8 k, drawn by arnold armitage\",\n",
    "    \"hyperdetailed portrait of kristen schaal as delirium of the endless, colourful make up, the sandman, made by caravaggio stanley artgerm lau wlop rossdraws artstation cgsociety concept art cgsociety octane render\",\n",
    "    \"a melting Roman numeral clock in the style of the painting the persistence of memory by Salvador Dali, dynamic lighting, photorealistic fantasy concept art, trending on art station, stunning visuals, creative, cinematic, ultra detailed\",\n",
    "    \"portrait of 1 2 yo emma watson at hogwarts, olive skin, long dark hair, beautiful bone structure, shiny gold background, intricate, elegant, highly detailed, digital painting, artstation, concept art, smooth, sharp focus, illustration, artgerm, rutkowski, mucha\",\n",
    "    \"this human has no soul, cinematic shot, 8 k, art by artgerm and greg rutkowski and alphonse mucha\",\n",
    "    \"a high contrast painting of a flooded ancient tower at night by ralph mcquarrie simon stalenhag carl spitzweg rene magritte roger dean, full-length view, highly detailed, vibrant colors, extremely high contrast!, symmetry, great composition, high detail, cinematic lighting, award winning masterpiece, trending on artstation\",\n",
    "    \"3 d goddess of death close - up profile portrait with ram skull. beautiful intricately detailed japanese crow kitsune mask and clasical japanese kimono. betta fish, jellyfish phoenix, bio luminescent, plasma, ice, water, wind, creature, artwork by tooth wu and wlop and beeple and greg rutkowski\",\n",
    "    \"painting of hybrid between butterfly!!!!!!!! & dragon, intercrossed animal, mixture animal, by tiffany bozic, by zdzislaw beksinski, biomorphic, cold hue's, warm tone gradient background, concept art, beautiful composition, digital painting,\",\n",
    "    \"the beautiful scene render that a beautiful girl lies in the arms of a huge white dragon in the fairyland surrounded by white clouds, in the style of makoto shinkai victo ngai and peter mohrbacher studio ghibli artgerm karol bak beeple, animation style, 8 k hd, dream, trending on cgsociety, trending on artstation, ultra wide angle, animation style, hyperrealism, 3 d render, hyper detailed\",\n",
    "    \"a police car driving through shallow water, flooded city, raining, people walking through shallow water, muted colors, hyperrealistic, oil painting, intricate, cgsociety, artstation, 8 k, cinematic, soft lighting, by greg rutkowski, by wlop, by artgerm\",\n",
    "    \"fullbody!! dynamic movement pose, beautiful ethnic woman with flowing hair, big natural horns on her head, gold jewellery, dnd, face, fantasy, intricate, elegant, highly detailed, digital painting, artstation, concept art, smooth, sharp focus, illustration, art by artgerm and greg rutkowski and alphonse mucha\",\n",
    "    \"close up of hyper - realistic spongebob, photorealistic, mesmerizing, fantastical, concept art, highly detailed, artstation, trending, feng zhu, shaddy safadi, noah bradley, tyler edlin, jordan grimmer, darek zabrocki, neil blevins, tuomas korpi\",\n",
    "    \"marisol pepa flores, face portrait, elegant, fantasy, hd shot, digital portrait, beautiful, artstation, comic style, by artgerm, guy denning, jakub rozalski, magali villeneuve and charlie bowater\",\n",
    "    \"modern city, Parisian buildings, billboards, advertisements, small buildings, dark, matte painting, concept art, digital painting, style of Ian Hubert, warm lighting, futuristic, volumetric lighting, street view, daytime, godrays , high detail, no sky scrapers\",\n",
    "    \"a portrait of an anthropomorphic donkey holding a martini, cyberpunk!, fantasy, elegant, digital painting, artstation, concept art, matte, sharp focus, illustration, art by josan gonzalez\",\n",
    "    \"realistic render portrait realistic render portrait of group of flying blue whales towards the moon, intricate, toy, sci - fi, extremely detailed, digital painting, sculpted in zbrush, artstation, concept art, smooth, sharp focus, illustration, chiaroscuro lighting, golden ratio, incredible art by artgerm and greg rutkowski and alphonse mucha and simon stalenhag\",\n",
    "    \"molly millions, closeup portrait of a young beautiful cyberpunk woman, mirror eye implants, black hair in a rough shag, sunset, neuromancer, street samurai, cyberpunk city background, megacity, gorgeous view, depth, painted by seb mckinnon, high detail, digital art, painted by greg rutkowski, trending on artstation\",\n",
    "    \"portrait of a beautiful woman wearing a sundress at a lake, looking at camera, d & d, nice outfit, long hair, intricate, elegant, stylish, realistic, extremely detailed, digital painting, artstation, concept art, smooth, sharp focus, illustration, ambient lighting, art by artgerm and greg rutkowski and alphonse mucha and simon stalenhag\",\n",
    "    \"young asian woman, iris van herpen, beautiful face, perfect symmetrical body, full body shot, inflateble shapes, wires, tubes, veins, jellyfish, white biomechanical details, wearing epic bionic cyborg implants, masterpiece, intricate, biopunk, vogue, highly detailed, artstation, concept art, cyberpunk, octane render\",\n",
    "    \"beautiful lifelike award winning pencil illustration of lisa loeb trending on art station artgerm greg rutkowski alphonse mucha cinematic atmospheric\",\n",
    "    \"a cyberpunk ice cream truck, black velvet painting, artwork by Greg Rutkowski, John Berkey, Alexander Jansson, Kuvshinov, WLOP, Artgerm, trending on ArtStationHD. octane render, greg rutkowski, hyper realism, high detail, octane render, vervia, 8k\",\n",
    "    \"a beautiful painting of in the silent, starlit nights, beautiful flower, girl, by greg rutkowski, trending on artstation\",\n",
    "    \"a masterpiece ultrarealistic ultradetailed portrait of a incredibly beautiful 0 0 s blonde bimbo in pink clothes. baroque renaissance. medium shot, intricate, elegant, highly detailed. trending on artstation, digital art, by stanley artgerm lau, wlop, rossdraws, james jean, andrei riabovitchev, marc simonetti, yoshitaka amano. background by james jean and gustav klimt, light by julie bell, 4 k, porcelain skin.\",\n",
    "    \"Masculine face made of multicolored bubbles, motion blur, blur, bokeh, Affinity Photo, trending on Artstation, award-winning, art by Studio Ghibli, by Lisa Frank\",\n",
    "    \"rubik's cube transformer, tristan eaton, victo ngai, artgerm, rhads, ross draws\",\n",
    "    \"a fat ugly man, in the style of artgerm, gerald brom, atey ghailan and mike mignola, vibrant colors and hard shadows and strong rim light, plain background, comic cover art, trending on artstation\",\n",
    "    \"half joe biden half reptiloid, ultra realistic, concept art, intricate details, eerie, highly detailed, photorealistic, octane render, 8 k, unreal engine. art by artgerm and greg rutkowski and alphonse mucha\",\n",
    "    \"an illustration of a house with large barn with many cute flower pots and beautiful blue sky scenery. earth golem standing in yard, cinematic view, epic sky, detailed, concept art, low angle, high detail, warm lighting, volumetric, godrays, vivid, beautiful, trending on artstation, by jordan grimmer, huge scene, grass, art greg rutkowski\",\n",
    "    \"A beautiful digital painting of a sexy female anubis, holding a sword, the moon behind her, intricate, cinematic lighting, highly detailed, digital painting, Artstation, concept art, smooth, sharp focus, illustration, art by Tom Bagshaw, Artgerm and Greg Rutkowski\",\n",
    "    \"worm's eye view of overwatch headquarters carved inside a mountain surrounding a lush well kept garden, magical, natural light, fantasy, sharp focus, concept art, by greg rutkowski and craig mullins, cozy atmospheric\",\n",
    "    \"a portrait of a beautiful willa holland as a 1 9 5 0 s rockabilly greaser, art by lois van baarle and loish and ross tran and rossdraws and sam yang and samdoesarts and artgerm, digital art, highly detailed, intricate, sharp focus, trending on artstation hq, deviantart, unreal engine 5, 4 k uhd image\",\n",
    "    \"mariano rajoy with cyberpunk implants, deep focus, d & d, fantasy, intricate, elegant, highly detailed, digital painting, artstation, concept art, matte, sharp focus, illustration, hearthstone, art by artgerm and greg rutkowski and alphonse mucha\",\n",
    "    \"dwayne johnson holding a purple lightsaber wearing brown jedi robes, concept art, ultra realistic\",\n",
    "    \"panoramic view, a pilot girl, soldier clothing, battlefield in background, anime style, hair down, symmetrical facial features, realistic hands, from arknights, hyper realistic, 4 k, extreme detail, 1 0 1 st airborne, trending artstation, safebooru, realistic lighting, by alphonse mucha, greg rutkowski, sharp focus\",\n",
    "    \"danny devito riding a large harley davidson, hyperrealism, lens glare, trending on artstation, intricate, 8 k\",\n",
    "    \"a girl with short blue hair and blue eyes is sitting on a cloud, anime style, light effect, anime style hyper detailed, illustration, bloody, intricate, elegant, digital painting, artstation, smooth, sharp focus, art by artgerm and greg rutkowski and alphonse mucha.\",\n",
    "    \"totem aztek tribal deepdream intricate, elegant, sharp focus, illustration, highly detailed, digital painting, concept art, matte, art by WLOP and Artgerm and Greg Rutkowski and Alphonse Mucha, masterpiece\",\n",
    "    \"painting of dark muscular oiled indian woman back, ultra realistic, concept art, intricate details, eerie, highly detailed, photorealistic, octane render, 8 k, unreal engine. art by artgerm and greg rutkowski and alphonse mucha\",\n",
    "    \"ultra realistic illustration of taco cat, intricate, elegant, highly detailed, digital painting, artstation, concept art, smooth, sharp focus, illustration, art by artgerm and greg rutkowski and alphonse mucha\",\n",
    "    \"kyoto animation girl wearing cyberpunk intricate streetwear riding dirt bike, respirator, detailed portrait, cell shaded, 4 k, concept art, by wlop, ilya kuvshinov, artgerm, krenz cushart, greg rutkowski, pixiv. cinematic dramatic atmosphere, sharp focus, volumetric lighting, cinematic lighting, studio quality\",\n",
    "]"
   ]
  },
  {
   "cell_type": "code",
   "execution_count": null,
   "metadata": {},
   "outputs": [],
   "source": [
    "# !pip install sentence_transformers"
   ]
  },
  {
   "cell_type": "code",
   "execution_count": null,
   "metadata": {},
   "outputs": [],
   "source": [
    "# generate embeddings using minilm-l6-v2\n",
    "from sentence_transformers import SentenceTransformer, models\n",
    "st_model = SentenceTransformer('/home/thanh/shared_disk/thanh/sditp/data/all-MiniLM-L6-v2')"
   ]
  },
  {
   "cell_type": "code",
   "execution_count": null,
   "metadata": {},
   "outputs": [],
   "source": [
    "embeddings = []\n",
    "\n",
    "for prompt in prompts:\n",
    "    prompt_embeddings = st_model.encode(prompt).flatten()\n",
    "    embeddings.append(prompt_embeddings)"
   ]
  },
  {
   "cell_type": "code",
   "execution_count": null,
   "metadata": {},
   "outputs": [],
   "source": [
    "embeddings[0].shape"
   ]
  },
  {
   "cell_type": "code",
   "execution_count": null,
   "metadata": {},
   "outputs": [],
   "source": [
    "# generate images from prompts"
   ]
  },
  {
   "cell_type": "code",
   "execution_count": null,
   "metadata": {},
   "outputs": [],
   "source": [
    "# !pip install --upgrade diffusers transformers -q "
   ]
  },
  {
   "cell_type": "code",
   "execution_count": null,
   "metadata": {},
   "outputs": [],
   "source": [
    "# !pip install -U huggingface_hub"
   ]
  },
  {
   "cell_type": "code",
   "execution_count": null,
   "metadata": {},
   "outputs": [],
   "source": [
    "from diffusers import StableDiffusionPipeline\n",
    "import torch"
   ]
  },
  {
   "cell_type": "code",
   "execution_count": null,
   "metadata": {},
   "outputs": [],
   "source": [
    "class CFG:\n",
    "    device = \"cuda\" if torch.cuda.is_available() else \"cpu\"\n",
    "    seed = 42\n",
    "    generator = torch.Generator(device).manual_seed(seed)\n",
    "    model_id = \"stabilityai/stable-diffusion-2\"\n",
    "\n",
    "CFG = CFG()"
   ]
  },
  {
   "cell_type": "code",
   "execution_count": null,
   "metadata": {},
   "outputs": [],
   "source": [
    "from huggingface_hub import notebook_login\n",
    "notebook_login()"
   ]
  },
  {
   "cell_type": "code",
   "execution_count": null,
   "metadata": {},
   "outputs": [],
   "source": [
    "# TODO: need to check if below code is similar to this: https://github.com/CompVis/stable-diffusion/blob/main/scripts/txt2img.py\n",
    "\n",
    "model_pipe = StableDiffusionPipeline.from_pretrained(CFG.model_id, torch_dtype=torch.float16, revision=\"fp16\", use_auth_token=True)\n",
    "model_pipe = model_pipe.to(CFG.device)"
   ]
  },
  {
   "cell_type": "code",
   "execution_count": null,
   "metadata": {},
   "outputs": [],
   "source": [
    "def generate_image(prompt, model, n_images=1):\n",
    "    images = []\n",
    "    for _ in range(n_images):\n",
    "        images.append(model(prompt).images[0])\n",
    "    return images"
   ]
  },
  {
   "cell_type": "code",
   "execution_count": null,
   "metadata": {},
   "outputs": [],
   "source": [
    "# generate_image(prompts[0], model_pipe)[0]"
   ]
  },
  {
   "cell_type": "code",
   "execution_count": null,
   "metadata": {},
   "outputs": [],
   "source": [
    "!rm images/*"
   ]
  },
  {
   "cell_type": "code",
   "execution_count": null,
   "metadata": {},
   "outputs": [],
   "source": [
    "generated_images = []\n",
    "images_idx = []\n",
    "for idx, prompt in enumerate(prompts):\n",
    "    generated_images.append(generate_image(prompt, model_pipe, 8))\n",
    "    images_idx.append(idx)"
   ]
  },
  {
   "cell_type": "code",
   "execution_count": null,
   "metadata": {},
   "outputs": [],
   "source": [
    "import os\n",
    "\n",
    "images_path = \"./images\"\n",
    "if not os.path.exists(images_path):\n",
    "    os.mkdir(images_path)\n",
    "\n",
    "generated_image_names = []\n",
    "for idx, images in zip(images_idx, generated_images):\n",
    "    prompt_images = []\n",
    "    for i, image in enumerate(images):\n",
    "        image_name = os.path.join(images_path, f\"{str(idx).zfill(5)}_{str(i).zfill(2)}.png\")\n",
    "        image.save(image_name)\n",
    "        prompt_images.append(image_name)\n",
    "    generated_image_names.append(prompt_images)"
   ]
  },
  {
   "cell_type": "code",
   "execution_count": null,
   "metadata": {},
   "outputs": [],
   "source": [
    "import uuid\n",
    "\n",
    "prompt_ids = []\n",
    "image_ids = []\n",
    "image_paths = []\n",
    "all_prompt_images = []\n",
    "\n",
    "for prompt, images in zip(prompts, generated_image_names):\n",
    "    prompt_id = str(uuid.uuid4())\n",
    "    prompt_ids.append(prompt_id)\n",
    "\n",
    "    prompt_images = []\n",
    "    for image in images:\n",
    "        image_id = os.path.basename(image).split(\".\")[0]\n",
    "        image_ids.append(image_id)\n",
    "        image_paths.append(image)\n",
    "        prompt_images.append(image_id)\n",
    "    \n",
    "    all_prompt_images.append(prompt_images)"
   ]
  },
  {
   "cell_type": "code",
   "execution_count": null,
   "metadata": {},
   "outputs": [],
   "source": [
    "len(prompt_ids), len(prompts), len(embeddings)"
   ]
  },
  {
   "cell_type": "code",
   "execution_count": null,
   "metadata": {},
   "outputs": [],
   "source": [
    "# create correlation between prompt and image\n",
    "import pandas as pd\n",
    "\n",
    "prompt_df = pd.DataFrame({\n",
    "    \"id\": prompt_ids,\n",
    "    \"text\": prompts,\n",
    "    \"emb\": embeddings\n",
    "})\n",
    "prompt_df"
   ]
  },
  {
   "cell_type": "code",
   "execution_count": null,
   "metadata": {},
   "outputs": [],
   "source": [
    "image_df = pd.DataFrame({\n",
    "    \"id\": image_ids,\n",
    "    \"path\": image_paths\n",
    "})\n",
    "image_df"
   ]
  },
  {
   "cell_type": "code",
   "execution_count": null,
   "metadata": {},
   "outputs": [],
   "source": [
    "correlation_df = pd.DataFrame({\n",
    "    \"prompt_id\": prompt_ids,\n",
    "    \"image_id\": [\" \".join(images) for images in all_prompt_images]\n",
    "})\n",
    "correlation_df"
   ]
  },
  {
   "cell_type": "code",
   "execution_count": null,
   "metadata": {},
   "outputs": [],
   "source": [
    "# split correlation_df to k-fold\n",
    "from sklearn.model_selection import KFold\n",
    "\n",
    "kf = KFold(n_splits=5, shuffle=True, random_state=42)\n",
    "correlation_df[\"fold\"] = -1\n",
    "for fold, (train_idx, val_idx) in enumerate(kf.split(correlation_df)):\n",
    "    correlation_df.loc[val_idx, \"fold\"] = fold\n",
    "\n",
    "correlation_df"
   ]
  },
  {
   "cell_type": "code",
   "execution_count": null,
   "metadata": {},
   "outputs": [],
   "source": [
    "# write to csv\n",
    "prompt_df.to_csv(\"prompt.csv\", index=False)\n",
    "image_df.to_csv(\"image.csv\", index=False)\n",
    "correlation_df.to_csv(\"correlation.csv\", index=False)"
   ]
  },
  {
   "cell_type": "code",
   "execution_count": null,
   "metadata": {},
   "outputs": [],
   "source": [
    "import pandas as pd\n",
    "\n",
    "correlation_df = pd.read_csv(\"correlation.csv\")\n",
    "\n",
    "# create positive and negative pairs then create dataframe from it, positive pairs will have target = 1, negative pairs will have target = 0\n",
    "# all positive pairs of each prompt_id and randomly 10 negative pairs\n",
    "import random\n",
    "\n",
    "pairs = []\n",
    "\n",
    "for prompt_id in correlation_df.prompt_id.unique():\n",
    "    prompt_images = correlation_df[correlation_df.prompt_id == prompt_id].image_id.values[0].split(\" \")\n",
    "    for image_id in prompt_images:\n",
    "        pairs.append((prompt_id, image_id, 1))\n",
    "    \n",
    "    # each value is a string, we need to split it to get the list of image_id\n",
    "    negative_images = correlation_df[correlation_df.prompt_id != prompt_id].image_id.values\n",
    "    negative_images = [image_id.split(\" \") for image_id in negative_images]\n",
    "    negative_images = [image_id for image_ids in negative_images for image_id in image_ids]\n",
    "\n",
    "    pairs.extend([(prompt_id, random.choice(negative_images), 0) for _ in range(10)])\n",
    "\n",
    "pairs_df = pd.DataFrame(pairs, columns=[\"prompt_id\", \"image_id\", \"target\"])\n",
    "pairs_df\n"
   ]
  },
  {
   "cell_type": "code",
   "execution_count": null,
   "metadata": {},
   "outputs": [],
   "source": [
    "# save to csv\n",
    "pairs_df.to_csv(\"pairs.csv\", index=False)"
   ]
  },
  {
   "cell_type": "code",
   "execution_count": null,
   "metadata": {},
   "outputs": [],
   "source": []
  },
  {
   "cell_type": "code",
   "execution_count": null,
   "metadata": {},
   "outputs": [],
   "source": []
  }
 ],
 "metadata": {
  "kernelspec": {
   "display_name": "idp",
   "language": "python",
   "name": "python3"
  },
  "language_info": {
   "codemirror_mode": {
    "name": "ipython",
    "version": 3
   },
   "file_extension": ".py",
   "mimetype": "text/x-python",
   "name": "python",
   "nbconvert_exporter": "python",
   "pygments_lexer": "ipython3",
   "version": "3.8.13"
  },
  "orig_nbformat": 4,
  "vscode": {
   "interpreter": {
    "hash": "54ee78448139da1fc988a284c08f20c10612988b148a370999f707fbbae2b5fe"
   }
  }
 },
 "nbformat": 4,
 "nbformat_minor": 2
}
