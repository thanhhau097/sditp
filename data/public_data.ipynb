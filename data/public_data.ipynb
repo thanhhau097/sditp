{
 "cells": [
  {
   "cell_type": "code",
   "execution_count": null,
   "metadata": {},
   "outputs": [],
   "source": [
    "from urllib.request import urlretrieve\n",
    "import pandas as pd\n",
    "\n",
    "# Download the parquet table\n",
    "table_url = f'https://huggingface.co/datasets/poloclub/diffusiondb/resolve/main/metadata.parquet'\n",
    "urlretrieve(table_url, 'metadata.parquet')"
   ]
  },
  {
   "cell_type": "code",
   "execution_count": null,
   "metadata": {},
   "outputs": [],
   "source": [
    "# Read the table using Pandas\n",
    "metadata_df = pd.read_parquet('metadata.parquet')"
   ]
  },
  {
   "cell_type": "code",
   "execution_count": null,
   "metadata": {},
   "outputs": [],
   "source": [
    "metadata_df"
   ]
  },
  {
   "cell_type": "code",
   "execution_count": null,
   "metadata": {},
   "outputs": [],
   "source": [
    "# extract embeddings, images, and correlations"
   ]
  },
  {
   "cell_type": "code",
   "execution_count": null,
   "metadata": {},
   "outputs": [],
   "source": [
    "import os\n",
    "\n",
    "image_folder = \"./diffusiondb-2m/\"\n",
    "\n",
    "# get all image_name and correspond prompt in metadata_df then filter by images exist in image_folder\n",
    "image_name = [image_name for image_name in os.listdir(image_folder) if image_name.endswith(\".png\")]\n",
    "metadata_df = metadata_df[metadata_df[\"image_name\"].isin(image_name)]\n",
    "\n",
    "image_paths = [os.path.join(image_folder, image_name) for image_name in metadata_df[\"image_name\"].values]\n",
    "prompts = metadata_df[\"prompt\"].values\n"
   ]
  },
  {
   "cell_type": "code",
   "execution_count": null,
   "metadata": {},
   "outputs": [],
   "source": [
    "len(prompts)"
   ]
  },
  {
   "cell_type": "code",
   "execution_count": null,
   "metadata": {},
   "outputs": [],
   "source": [
    "from sentence_transformers import SentenceTransformer, models\n",
    "st_model = SentenceTransformer('/home/thanh/shared_disk/thanh/sditp/data/all-MiniLM-L6-v2')"
   ]
  },
  {
   "cell_type": "code",
   "execution_count": null,
   "metadata": {},
   "outputs": [],
   "source": [
    "from tqdm import tqdm\n",
    "\n",
    "embeddings = []\n",
    "\n",
    "for prompt in tqdm(prompts):\n",
    "    prompt_embeddings = st_model.encode(prompt).flatten()\n",
    "    embeddings.append(prompt_embeddings)"
   ]
  },
  {
   "cell_type": "code",
   "execution_count": null,
   "metadata": {},
   "outputs": [],
   "source": [
    "# generate image_df, embedding_df, and correlation_df\n",
    "# image_df will have 2 columns: id and path\n",
    "# embedding_df will have 3 columns: id, text, and emb\n",
    "# correlation_df will have 2 columns: prompt_id, image_id\n",
    "import uuid\n",
    "\n",
    "\n",
    "image_df = pd.DataFrame({\n",
    "    \"id\": [os.path.basename(image_path).split(\".\")[0] for image_path in image_paths],\n",
    "    \"path\": image_paths\n",
    "})\n",
    "\n",
    "prompt_df = pd.DataFrame({\n",
    "    \"id\": [str(uuid.uuid4()) for _ in range(len(prompts))],\n",
    "    \"text\": prompts,\n",
    "    \"emb\": embeddings\n",
    "})\n",
    "\n"
   ]
  },
  {
   "cell_type": "code",
   "execution_count": null,
   "metadata": {},
   "outputs": [],
   "source": [
    "correlation_df = pd.DataFrame({\n",
    "    \"prompt_id\": prompt_df[\"id\"].values,\n",
    "    \"image_id\": image_df[\"id\"].values\n",
    "})"
   ]
  },
  {
   "cell_type": "code",
   "execution_count": null,
   "metadata": {},
   "outputs": [],
   "source": [
    "image_df"
   ]
  },
  {
   "cell_type": "code",
   "execution_count": null,
   "metadata": {},
   "outputs": [],
   "source": [
    "prompt_df"
   ]
  },
  {
   "cell_type": "code",
   "execution_count": null,
   "metadata": {},
   "outputs": [],
   "source": [
    "correlation_df"
   ]
  },
  {
   "cell_type": "code",
   "execution_count": null,
   "metadata": {},
   "outputs": [],
   "source": [
    "# create positive pairs then pairs_df from correlation_df\n",
    "# split correlation_df to k-fold\n",
    "from sklearn.model_selection import KFold\n",
    "\n",
    "kf = KFold(n_splits=5, shuffle=True, random_state=42)\n",
    "correlation_df[\"fold\"] = -1\n",
    "for fold, (train_idx, val_idx) in enumerate(kf.split(correlation_df)):\n",
    "    correlation_df.loc[val_idx, \"fold\"] = fold\n",
    "\n",
    "\n",
    "pairs_df = pd.DataFrame({\n",
    "    \"prompt_id\": correlation_df[\"prompt_id\"].values,\n",
    "    \"image_id\": correlation_df[\"image_id\"].values,\n",
    "    \"target\": 1\n",
    "})"
   ]
  },
  {
   "cell_type": "code",
   "execution_count": null,
   "metadata": {},
   "outputs": [],
   "source": [
    "# save all dataframes to csv files\n",
    "image_df.to_csv(\"image.csv\", index=False)\n",
    "prompt_df.to_csv(\"prompt.csv\", index=False)\n",
    "pairs_df.to_csv(\"pairs.csv\", index=False)\n",
    "correlation_df.to_csv(\"correlation.csv\", index=False)\n",
    "\n",
    "\n"
   ]
  },
  {
   "cell_type": "code",
   "execution_count": null,
   "metadata": {},
   "outputs": [],
   "source": []
  },
  {
   "cell_type": "code",
   "execution_count": null,
   "metadata": {},
   "outputs": [],
   "source": []
  },
  {
   "cell_type": "code",
   "execution_count": null,
   "metadata": {},
   "outputs": [],
   "source": []
  },
  {
   "cell_type": "code",
   "execution_count": null,
   "metadata": {},
   "outputs": [],
   "source": []
  },
  {
   "cell_type": "code",
   "execution_count": null,
   "metadata": {},
   "outputs": [],
   "source": []
  },
  {
   "cell_type": "code",
   "execution_count": null,
   "metadata": {},
   "outputs": [],
   "source": []
  },
  {
   "cell_type": "code",
   "execution_count": null,
   "metadata": {},
   "outputs": [],
   "source": []
  },
  {
   "cell_type": "code",
   "execution_count": null,
   "metadata": {},
   "outputs": [],
   "source": []
  },
  {
   "cell_type": "code",
   "execution_count": null,
   "metadata": {},
   "outputs": [],
   "source": []
  },
  {
   "cell_type": "code",
   "execution_count": null,
   "metadata": {},
   "outputs": [],
   "source": []
  },
  {
   "cell_type": "code",
   "execution_count": null,
   "metadata": {},
   "outputs": [],
   "source": []
  },
  {
   "cell_type": "code",
   "execution_count": null,
   "metadata": {},
   "outputs": [],
   "source": []
  },
  {
   "cell_type": "code",
   "execution_count": null,
   "metadata": {},
   "outputs": [],
   "source": []
  },
  {
   "cell_type": "code",
   "execution_count": null,
   "metadata": {},
   "outputs": [],
   "source": []
  },
  {
   "cell_type": "code",
   "execution_count": null,
   "metadata": {},
   "outputs": [],
   "source": []
  },
  {
   "cell_type": "code",
   "execution_count": null,
   "metadata": {},
   "outputs": [],
   "source": []
  },
  {
   "cell_type": "code",
   "execution_count": null,
   "metadata": {},
   "outputs": [],
   "source": []
  }
 ],
 "metadata": {
  "kernelspec": {
   "display_name": "idp",
   "language": "python",
   "name": "python3"
  },
  "language_info": {
   "codemirror_mode": {
    "name": "ipython",
    "version": 3
   },
   "file_extension": ".py",
   "mimetype": "text/x-python",
   "name": "python",
   "nbconvert_exporter": "python",
   "pygments_lexer": "ipython3",
   "version": "3.8.13"
  },
  "orig_nbformat": 4,
  "vscode": {
   "interpreter": {
    "hash": "54ee78448139da1fc988a284c08f20c10612988b148a370999f707fbbae2b5fe"
   }
  }
 },
 "nbformat": 4,
 "nbformat_minor": 2
}
